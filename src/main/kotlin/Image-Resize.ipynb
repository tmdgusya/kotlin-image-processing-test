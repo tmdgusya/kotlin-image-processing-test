{
 "cells": [
  {
   "cell_type": "code",
   "execution_count": 2,
   "outputs": [
    {
     "name": "stdout",
     "output_type": "stream",
     "text": [
      "Kotlin Image Resizing!\n"
     ]
    }
   ],
   "source": [
    "println(\"Kotlin Image Resizing!\")"
   ],
   "metadata": {
    "collapsed": false,
    "ExecuteTime": {
     "end_time": "2023-08-06T10:34:20.221448Z",
     "start_time": "2023-08-06T10:34:20.170779Z"
    }
   }
  },
  {
   "cell_type": "code",
   "execution_count": 14,
   "outputs": [],
   "source": [
    "// read Image File\n",
    "val imageFile = File(\"../resources/test_image.png\")\n",
    "// Image file to input stream\n",
    "val inputImage = ImmutableImage.loader().fromFile(imageFile)"
   ],
   "metadata": {
    "collapsed": false,
    "ExecuteTime": {
     "end_time": "2023-08-06T10:48:28.630826Z",
     "start_time": "2023-08-06T10:48:28.568970Z"
    }
   }
  },
  {
   "cell_type": "code",
   "execution_count": 15,
   "outputs": [],
   "source": [
    "val resizedImage: File = File(\"../resources/resized_image.png\")"
   ],
   "metadata": {
    "collapsed": false,
    "ExecuteTime": {
     "end_time": "2023-08-06T10:48:29.758118Z",
     "start_time": "2023-08-06T10:48:29.710482Z"
    }
   }
  },
  {
   "cell_type": "code",
   "execution_count": 16,
   "outputs": [
    {
     "data": {
      "text/plain": "../resources/resized_image.png"
     },
     "execution_count": 16,
     "metadata": {},
     "output_type": "execute_result"
    }
   ],
   "source": [
    "import ar.com.hjg.pngj.PngWriter\n",
    "import com.sksamuel.scrimage.ImmutableImage\n",
    "import com.sksamuel.scrimage.ScaleMethod\n",
    "import com.sksamuel.scrimage.nio.JpegWriter\n",
    "\n",
    "val writer = JpegWriter()\n",
    "inputImage.resize(0.75).output(writer, resizedImage)"
   ],
   "metadata": {
    "collapsed": false,
    "ExecuteTime": {
     "end_time": "2023-08-06T10:48:30.270758Z",
     "start_time": "2023-08-06T10:48:30.200246Z"
    }
   }
  },
  {
   "cell_type": "code",
   "execution_count": null,
   "outputs": [],
   "source": [],
   "metadata": {
    "collapsed": false
   }
  }
 ],
 "metadata": {
  "kernelspec": {
   "display_name": "Kotlin",
   "language": "kotlin",
   "name": "kotlin"
  },
  "language_info": {
   "name": "kotlin",
   "version": "1.8.20",
   "mimetype": "text/x-kotlin",
   "file_extension": ".kt",
   "pygments_lexer": "kotlin",
   "codemirror_mode": "text/x-kotlin",
   "nbconvert_exporter": ""
  }
 },
 "nbformat": 4,
 "nbformat_minor": 0
}
