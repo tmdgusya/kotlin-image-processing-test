{
 "cells": [
  {
   "cell_type": "code",
   "execution_count": null,
   "outputs": [],
   "source": [
    "println(\"Kotlin Image Resizing!\")"
   ],
   "metadata": {
    "collapsed": false
   }
  },
  {
   "cell_type": "code",
   "execution_count": 1,
   "outputs": [
    {
     "name": "stdout",
     "output_type": "stream",
     "text": [
      "/Users/roach/Desktop/study/kotlin-image-processing/scripts/"
     ]
    }
   ],
   "source": [
    "print(System.getProperty(\"user.dir\"))"
   ],
   "metadata": {
    "collapsed": false,
    "ExecuteTime": {
     "end_time": "2023-08-06T14:17:53.708234Z",
     "start_time": "2023-08-06T14:17:53.621435Z"
    }
   }
  },
  {
   "cell_type": "code",
   "execution_count": 3,
   "outputs": [
    {
     "name": "stdout",
     "output_type": "stream",
     "text": [
      "../src/main/resources/test_image.png"
     ]
    }
   ],
   "source": [
    "import java.io.File\n",
    "import com.sksamuel.scrimage.ImmutableImage\n",
    "\n",
    "// read Image File\n",
    "val imageFile = File(\"../src/main/resources/test_image.png\")\n",
    "// Image file to input stream\n",
    "val inputImage = ImmutableImage.loader().fromFile(imageFile)\n",
    "\n",
    "print(imageFile)"
   ],
   "metadata": {
    "collapsed": false,
    "ExecuteTime": {
     "end_time": "2023-08-06T14:23:59.326312Z",
     "start_time": "2023-08-06T14:23:59.175517Z"
    }
   }
  },
  {
   "cell_type": "code",
   "execution_count": 2,
   "outputs": [
    {
     "name": "stdout",
     "output_type": "stream",
     "text": [
      "../src/main/resources/resized_image.png"
     ]
    }
   ],
   "source": [
    "val resizedImage: File = File(\"src/main/resources/resized_image.png\")\n",
    "\n",
    "print(resizedImage)"
   ],
   "metadata": {
    "collapsed": false,
    "ExecuteTime": {
     "end_time": "2023-08-06T14:23:49.928436Z",
     "start_time": "2023-08-06T14:23:49.871409Z"
    }
   }
  },
  {
   "cell_type": "code",
   "execution_count": 4,
   "outputs": [],
   "source": [
    "import ar.com.hjg.pngj.PngWriter\n",
    "import com.sksamuel.scrimage.ImmutableImage\n",
    "import com.sksamuel.scrimage.ScaleMethod\n",
    "import com.sksamuel.scrimage.nio.JpegWriter\n",
    "\n",
    "val writer = JpegWriter()\n",
    "val resultFile = inputImage.resize(0.75).output(writer, resizedImage)"
   ],
   "metadata": {
    "collapsed": false,
    "ExecuteTime": {
     "end_time": "2023-08-06T14:24:02.981407Z",
     "start_time": "2023-08-06T14:24:02.586645Z"
    }
   }
  }
 ],
 "metadata": {
  "kernelspec": {
   "display_name": "Kotlin",
   "language": "kotlin",
   "name": "kotlin"
  },
  "language_info": {
   "name": "kotlin",
   "version": "1.8.20",
   "mimetype": "text/x-kotlin",
   "file_extension": ".kt",
   "pygments_lexer": "kotlin",
   "codemirror_mode": "text/x-kotlin",
   "nbconvert_exporter": ""
  }
 },
 "nbformat": 4,
 "nbformat_minor": 0
}
