{
 "cells": [
  {
   "cell_type": "code",
   "execution_count": 1,
   "metadata": {
    "collapsed": true,
    "ExecuteTime": {
     "end_time": "2023-08-06T14:47:47.624035Z",
     "start_time": "2023-08-06T14:47:47.549617Z"
    }
   },
   "outputs": [
    {
     "name": "stdout",
     "output_type": "stream",
     "text": [
      "Hello, Kotlin enthusiasts!"
     ]
    }
   ],
   "source": [
    "print(\"Hello, Kotlin enthusiasts!\")"
   ]
  },
  {
   "cell_type": "code",
   "execution_count": 2,
   "outputs": [
    {
     "name": "stdout",
     "output_type": "stream",
     "text": [
      "../src/main/resources/test_image.png"
     ]
    }
   ],
   "source": [
    "import java.io.File\n",
    "import com.sksamuel.scrimage.ImmutableImage\n",
    "\n",
    "// read Image File\n",
    "val imageFile = File(\"../src/main/resources/test_image.png\")\n",
    "// Image file to input stream\n",
    "val inputImage = ImmutableImage.loader().fromFile(imageFile)\n",
    "\n",
    "print(imageFile)"
   ],
   "metadata": {
    "collapsed": false,
    "ExecuteTime": {
     "end_time": "2023-08-06T14:47:52.621348Z",
     "start_time": "2023-08-06T14:47:51.893701Z"
    }
   }
  },
  {
   "cell_type": "code",
   "execution_count": 6,
   "outputs": [
    {
     "name": "stdout",
     "output_type": "stream",
     "text": [
      "../src/main/resources/processed_image.webp"
     ]
    }
   ],
   "source": [
    "val processedImage: File = File(\"../src/main/resources/processed_image.webp\")\n",
    "\n",
    "print(processedImage)"
   ],
   "metadata": {
    "collapsed": false,
    "ExecuteTime": {
     "end_time": "2023-08-06T14:50:17.242942Z",
     "start_time": "2023-08-06T14:50:17.193663Z"
    }
   }
  },
  {
   "cell_type": "code",
   "execution_count": 7,
   "outputs": [],
   "source": [
    "import ar.com.hjg.pngj.PngWriter\n",
    "import com.sksamuel.scrimage.ImmutableImage\n",
    "import com.sksamuel.scrimage.ScaleMethod\n",
    "import com.sksamuel.scrimage.webp.WebpWriter\n",
    "\n",
    "val writer = WebpWriter.DEFAULT\n",
    "val resultFile = inputImage.resize(0.75).output(writer, processedImage)"
   ],
   "metadata": {
    "collapsed": false,
    "ExecuteTime": {
     "end_time": "2023-08-06T14:50:25.755411Z",
     "start_time": "2023-08-06T14:50:24.815850Z"
    }
   }
  },
  {
   "cell_type": "code",
   "execution_count": null,
   "outputs": [],
   "source": [],
   "metadata": {
    "collapsed": false
   }
  }
 ],
 "metadata": {
  "kernelspec": {
   "display_name": "Kotlin",
   "language": "kotlin",
   "name": "kotlin"
  },
  "language_info": {
   "name": "kotlin",
   "version": "1.8.20",
   "mimetype": "text/x-kotlin",
   "file_extension": ".kt",
   "pygments_lexer": "kotlin",
   "codemirror_mode": "text/x-kotlin",
   "nbconvert_exporter": ""
  }
 },
 "nbformat": 4,
 "nbformat_minor": 0
}
