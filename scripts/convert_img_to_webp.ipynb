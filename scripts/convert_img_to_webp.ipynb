{
 "cells": [
  {
   "cell_type": "code",
   "execution_count": 1,
   "metadata": {
    "collapsed": true,
    "ExecuteTime": {
     "end_time": "2023-08-06T14:40:34.894229Z",
     "start_time": "2023-08-06T14:40:34.817299Z"
    }
   },
   "outputs": [
    {
     "name": "stdout",
     "output_type": "stream",
     "text": [
      "Hello, Kotlin enthusiasts!"
     ]
    }
   ],
   "source": [
    "print(\"Hello, Kotlin enthusiasts!\")"
   ]
  },
  {
   "cell_type": "code",
   "execution_count": 3,
   "outputs": [
    {
     "name": "stdout",
     "output_type": "stream",
     "text": [
      "../src/main/resources/test_image.png"
     ]
    }
   ],
   "source": [
    "import java.io.File\n",
    "import com.sksamuel.scrimage.ImmutableImage\n",
    "\n",
    "// read Image File\n",
    "val imageFile = File(\"../src/main/resources/test_image.png\")\n",
    "// Image file to input stream\n",
    "val inputImage = ImmutableImage.loader().fromFile(imageFile)\n",
    "\n",
    "print(imageFile)"
   ],
   "metadata": {
    "collapsed": false,
    "ExecuteTime": {
     "end_time": "2023-08-06T14:43:01.128790Z",
     "start_time": "2023-08-06T14:43:00.587456Z"
    }
   }
  },
  {
   "cell_type": "code",
   "execution_count": 2,
   "outputs": [],
   "source": [
    "import java.io.File\n",
    "\n",
    "val webPImage: File = File(\"../src/main/resources/webp_image.webp\")"
   ],
   "metadata": {
    "collapsed": false,
    "ExecuteTime": {
     "end_time": "2023-08-06T14:42:59.192929Z",
     "start_time": "2023-08-06T14:42:59.154177Z"
    }
   }
  },
  {
   "cell_type": "code",
   "execution_count": 4,
   "outputs": [
    {
     "data": {
      "text/plain": "../src/main/resources/webp_image.webp"
     },
     "execution_count": 4,
     "metadata": {},
     "output_type": "execute_result"
    }
   ],
   "source": [
    "import com.sksamuel.scrimage.webp.WebpWriter\n",
    "\n",
    "val writer = WebpWriter.DEFAULT\n",
    "inputImage.output(writer, webPImage)"
   ],
   "metadata": {
    "collapsed": false,
    "ExecuteTime": {
     "end_time": "2023-08-06T14:43:44.394699Z",
     "start_time": "2023-08-06T14:43:43.524400Z"
    }
   }
  }
 ],
 "metadata": {
  "kernelspec": {
   "display_name": "Kotlin",
   "language": "kotlin",
   "name": "kotlin"
  },
  "language_info": {
   "name": "kotlin",
   "version": "1.8.20",
   "mimetype": "text/x-kotlin",
   "file_extension": ".kt",
   "pygments_lexer": "kotlin",
   "codemirror_mode": "text/x-kotlin",
   "nbconvert_exporter": ""
  }
 },
 "nbformat": 4,
 "nbformat_minor": 0
}
